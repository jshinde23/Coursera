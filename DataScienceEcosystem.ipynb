{
 "cells": [
  {
   "cell_type": "markdown",
   "id": "ea8c38fe-1468-4c2b-9b0f-9f0eb4bc2d64",
   "metadata": {},
   "source": [
    "#Data Science Tools and Ecosystem"
   ]
  },
  {
   "cell_type": "markdown",
   "id": "9ca89303-937c-4c5a-891c-cd48ceed27dd",
   "metadata": {},
   "source": [
    "In this notebook, Data Science Tools and Ecosystem are summarized."
   ]
  },
  {
   "cell_type": "markdown",
   "id": "ca8585d2-456d-4de0-a158-b29516ecf6af",
   "metadata": {},
   "source": [
    "Some of the popular languages that Data Scientists use are:\n",
    "    1. Python\n",
    "    2. R\n",
    "    3. SQL"
   ]
  },
  {
   "cell_type": "markdown",
   "id": "88cb9296-a834-410e-a689-f340da909b03",
   "metadata": {},
   "source": [
    "Some of the commonly used libraries used by Data Scientists include:\n",
    "    1. pandas\n",
    "    2. ggplot\n",
    "    3. matplotlib\n",
    "    "
   ]
  },
  {
   "cell_type": "markdown",
   "id": "8c385847-6f14-4952-b414-f2957fe2d783",
   "metadata": {},
   "source": [
    "|Data Science Tools|\n",
    "|---|\n",
    "|Git|\n",
    "|VS Code|\n",
    "|Anaconda|"
   ]
  },
  {
   "cell_type": "markdown",
   "id": "a8e7be6c-d1cc-45b8-9256-59ab0f95a2bd",
   "metadata": {},
   "source": [
    "###Below are a few examples of evaluating arithmetic expressions in Python"
   ]
  },
  {
   "cell_type": "markdown",
   "id": "cd0823d3-0369-40c3-8a99-d07749a53590",
   "metadata": {},
   "source": [
    "This a simple arithmetic expression to mutiply then add integers"
   ]
  },
  {
   "cell_type": "code",
   "execution_count": 1,
   "id": "1fe4a1d8-9dfc-4448-8b46-32030b22d79e",
   "metadata": {
    "tags": []
   },
   "outputs": [
    {
     "data": {
      "text/plain": [
       "17"
      ]
     },
     "execution_count": 1,
     "metadata": {},
     "output_type": "execute_result"
    }
   ],
   "source": [
    "(3*4)+5"
   ]
  },
  {
   "cell_type": "markdown",
   "id": "a968b443-cfc6-485c-b390-5fb931f9ddd6",
   "metadata": {},
   "source": [
    "This will convert 200 minutes to hours by diving by 60"
   ]
  },
  {
   "cell_type": "code",
   "execution_count": 1,
   "id": "d05940b0-905a-4292-8a26-1f01d628df28",
   "metadata": {
    "tags": []
   },
   "outputs": [
    {
     "data": {
      "text/plain": [
       "3.3333333333333335"
      ]
     },
     "execution_count": 1,
     "metadata": {},
     "output_type": "execute_result"
    }
   ],
   "source": [
    "200/60"
   ]
  },
  {
   "cell_type": "markdown",
   "id": "f69efe2e-1feb-40be-968e-eb8653f53a6c",
   "metadata": {},
   "source": [
    "#Objectives:\n",
    "    *R\n",
    "    *Python\n",
    "    *SQL"
   ]
  },
  {
   "cell_type": "markdown",
   "id": "ee609688-6ed4-43f8-bd46-2511c68d1ed5",
   "metadata": {},
   "source": [
    "##Author\n",
    "Janhavi"
   ]
  },
  {
   "cell_type": "code",
   "execution_count": null,
   "id": "fac00ee0-9adc-43d3-90ba-404a4fbb7cdd",
   "metadata": {},
   "outputs": [],
   "source": []
  }
 ],
 "metadata": {
  "kernelspec": {
   "display_name": "Python",
   "language": "python",
   "name": "conda-env-python-py"
  },
  "language_info": {
   "codemirror_mode": {
    "name": "ipython",
    "version": 3
   },
   "file_extension": ".py",
   "mimetype": "text/x-python",
   "name": "python",
   "nbconvert_exporter": "python",
   "pygments_lexer": "ipython3",
   "version": "3.7.12"
  }
 },
 "nbformat": 4,
 "nbformat_minor": 5
}
